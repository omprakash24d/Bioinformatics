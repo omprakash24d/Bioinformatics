{
 "cells": [
  {
   "cell_type": "code",
   "execution_count": 14,
   "id": "22554c2d-2fea-43f2-a1d6-51d1c5bc8a41",
   "metadata": {},
   "outputs": [],
   "source": [
    "import pandas as pd\n",
    "import numpy as np"
   ]
  },
  {
   "cell_type": "code",
   "execution_count": 15,
   "id": "74d0bd3b-4572-4294-9a72-850cc1d65419",
   "metadata": {},
   "outputs": [],
   "source": [
    "dict1={\n",
    "    \"name\":[\"harry\", \"Om\",\"Prakash\"],\n",
    "    \"marks\":[99,90,12],\n",
    "    \"city\":['rampur','jaipur','new delhi']\n",
    "}"
   ]
  },
  {
   "cell_type": "code",
   "execution_count": 16,
   "id": "0ea41b77-71f0-41ca-81ce-45828816738e",
   "metadata": {},
   "outputs": [],
   "source": [
    "df=pd.DataFrame(dict1)"
   ]
  },
  {
   "cell_type": "raw",
   "id": "fcd9e04c-71e3-4a03-90e8-8ec3d985303b",
   "metadata": {},
   "source": [
    "df"
   ]
  },
  {
   "cell_type": "code",
   "execution_count": null,
   "id": "a03f663f-8de9-4346-ae59-ccc496e025c3",
   "metadata": {},
   "outputs": [],
   "source": []
  }
 ],
 "metadata": {
  "kernelspec": {
   "display_name": "Python 3 (ipykernel)",
   "language": "python",
   "name": "python3"
  },
  "language_info": {
   "codemirror_mode": {
    "name": "ipython",
    "version": 3
   },
   "file_extension": ".py",
   "mimetype": "text/x-python",
   "name": "python",
   "nbconvert_exporter": "python",
   "pygments_lexer": "ipython3",
   "version": "3.13.0"
  }
 },
 "nbformat": 4,
 "nbformat_minor": 5
}
